{
 "cells": [
  {
   "cell_type": "markdown",
   "metadata": {},
   "source": [
    "# Benchmarking RCMAP"
   ]
  },
  {
   "cell_type": "code",
   "execution_count": 2,
   "metadata": {},
   "outputs": [],
   "source": [
    "# Setup\n",
    "import arcpy\n",
    "from arcpy import env\n",
    "from arcpy.sa import *\n",
    "import arcgis\n",
    "import pandas as pd\n",
    "\n",
    "# this is a magic command for showing the map in Jupyter notebook\n",
    "%matplotlib inline\n",
    "\n",
    "env.workspace = r\"C:\\Users\\alaurencetraynor\\Documents\\OR\\ValeDO\\Remote sensing benchmarks\"\n",
    "\n",
    "# Define Analysis Area\n",
    "analysis_area = r'C:\\Users\\alaurencetraynor\\Documents\\OR\\ValeDO\\Remote sensing benchmarks\\Remote sensing benchmarks.gdb\\CowLakesAssesmentArea'\n",
    "\n",
    "# creating bounding box for clip function below\n",
    "desc = arcpy.Describe(analysis_area).extent\n",
    "bb = str(desc.XMin) + \" \" + str(desc.YMin) + \" \" + str(desc.XMax) + \" \" + str(desc.YMax)"
   ]
  },
  {
   "cell_type": "code",
   "execution_count": 6,
   "metadata": {},
   "outputs": [],
   "source": [
    "# Grab RCMAP service for each relevant indicator\n",
    "# Parameterising this for now in case i want to make it into a tool at some point\n",
    "#indicator_list = 'annual herbaceous' + 'perennial herbaceous' + 'bare ground' + 'shrub cover' + 'tree cover' + 'herbaceous cover'\n",
    "indicator_list = 'herbaceous cover'\n",
    "server = \"https://www.mrlc.gov/geoserver/rcmap\"\n",
    "output_dir = r\"C:\\Users\\alaurencetraynor\\Documents\\OR\\ValeDO\\Remote sensing benchmarks\\Remote sensing benchmarks.gdb\"\n",
    "\n",
    "# minimum value is 1985, max value is 2021\n",
    "year = [\"2017\",\"2018\",\"2019\",\"2020\", \"2021\"] # if we want multiple years just need to put this in a loop in cell below and probably create a raster stack for each indicator\n",
    "\n",
    "# Benchmarks\n",
    "# Read from monitoring objectives spreadsheet\n",
    "\n",
    "\n",
    "\n",
    "#use_benchmarks = 'TRUE'\n",
    "#annual_herb_benchmarks = RemapRange([[0,1,1],[1,5,2],[5,100,3]])\n",
    "#perennial_herb_benchmarks = RemapRange([[0,10,1],[10,25,2],[25,100,3]])\n",
    "#bare_ground_benchmarks = RemapRange([[0,20,1],[20,100,2]])"
   ]
  },
  {
   "cell_type": "code",
   "execution_count": null,
   "metadata": {},
   "outputs": [],
   "source": [
    "# Ideally assign benchmark groups as well\n",
    "# use benchmark group polygon to select cells and apply approproate benchmark"
   ]
  },
  {
   "cell_type": "code",
   "execution_count": 8,
   "metadata": {},
   "outputs": [],
   "source": [
    "# clipping these to the extent of the analysis area\n",
    "# need to also specify which years to grab\n",
    "# there are other indicators but just using these 3 for now\n",
    "if 'annual herbaceous' in indicator_list:\n",
    "    for i in year:\n",
    "        wcs_url = server + \"_anhb/wcs?coverage=rcmap_annual_herbaceous_\" + i\n",
    "        ah = arcpy.management.MakeWCSLayer(wcs_url,(\"annual_herb\"+ i), analysis_area)\n",
    "        # clip to poly\n",
    "        ah_output_dir = output_dir + (\"/annual_herb_Clip\"+ i)\n",
    "        ah_clip = arcpy.management.Clip(ah, bb, ah_output_dir, analysis_area, \"256\", \"ClippingGeometry\", \"NO_MAINTAIN_EXTENT\")\n",
    "        if use_benchmarks:\n",
    "            ah_benchmarked = Reclassify(ah_clip,\"Value\", annual_herb_benchmarks)\n",
    "            ah_benchmarked.save(output_dir + (\"/ah_benchmarked_\") + i)\n",
    "if 'bare ground' in indicator_list:\n",
    "    for i in year:\n",
    "        wcs_url = server + \"_bare/wcs?coverage=rcmap_bare_ground_\"+ i\n",
    "        bg = arcpy.management.MakeWCSLayer(wcs_url,(\"bare_ground_\"+ i), analysis_area)\n",
    "        # clip to poly\n",
    "        bg_output_dir = output_dir + (\"/bare_ground_Clip\")+ i\n",
    "        bg_clip = arcpy.management.Clip(bg, bb, bg_output_dir, analysis_area, \"256\", \"ClippingGeometry\", \"NO_MAINTAIN_EXTENT\")\n",
    "        if use_benchmarks:\n",
    "            bg_benchmarked = Reclassify(bg_clip,\"Value\", bare_ground_benchmarks)\n",
    "            bg_benchmarked.save(output_dir + (\"/bg_benchmarked_\") + i)# theres probably a way to chnage these labels\n",
    "if 'perennial herbaceous' in indicator_list:\n",
    "    for i in year :\n",
    "        wcs_url = server + \"_perennial_herbaceous/wcs?coverage=rcmap_perennial_herbaceous_\" + i\n",
    "        ph = arcpy.management.MakeWCSLayer(wcs_url,(\"perennial_herb\"+ i), analysis_area)\n",
    "        # clip to poly\n",
    "        ph_output_dir = output_dir + (\"/perennial_herb_Clip\")+ i\n",
    "        ph_clip = arcpy.management.Clip(ph, bb, ph_output_dir, analysis_area, \"256\", \"ClippingGeometry\", \"NO_MAINTAIN_EXTENT\")\n",
    "        if use_benchmarks:\n",
    "            ph_benchmarked = Reclassify(ph_clip,\"Value\", perennial_herb_benchmarks)\n",
    "            ph_benchmarked.save(output_dir + (\"/ph_benchmarked_\") + i)\n",
    "if 'shrub cover' in indicator_list:\n",
    "    for i in year :\n",
    "        wcs_url = server + \"_shrub/wcs?coverage=rcmap_shrub_\" + i\n",
    "        sh = arcpy.management.MakeWCSLayer(wcs_url,(\"shrub\"+ i), analysis_area)\n",
    "        # clip to poly\n",
    "        sh_output_dir = output_dir + (\"/shrub_Clip\") + i\n",
    "        sh_clip = arcpy.management.Clip(sh, bb, sh_output_dir, analysis_area, \"256\", \"ClippingGeometry\", \"NO_MAINTAIN_EXTENT\")\n",
    "        #if use_benchmarks:\n",
    "            #sh_benchmarked = Reclassify(sh_clip,\"Value\", shrub_benchmarks)\n",
    "            #sh_benchmarked.save(output_dir + (\"/shrub_benchmarked_\") + i)\n",
    "if 'tree cover' in indicator_list:\n",
    "    for i in year :\n",
    "        wcs_url = server + \"_tree/wcs?coverage=rcmap_tree_\" + i\n",
    "        tr = arcpy.management.MakeWCSLayer(wcs_url,(\"tree\"+ i), analysis_area)\n",
    "        # clip to poly\n",
    "        tr_output_dir = output_dir + (\"/tree_Clip\") + i\n",
    "        tr_clip = arcpy.management.Clip(tr, bb, tr_output_dir, analysis_area, \"256\", \"ClippingGeometry\", \"NO_MAINTAIN_EXTENT\")\n",
    "        #if use_benchmarks:\n",
    "            #tr_benchmarked = Reclassify(tr_clip,\"Value\", tree_benchmarks)\n",
    "           # tr_benchmarked.save(output_dir + (\"/tree_benchmarked_\") + i)\n",
    "if 'herbaceous cover' in indicator_list:\n",
    "    for i in year :\n",
    "        wcs_url = server + \"_herb/wcs?coverage=rcmap_herbaceous_\" + i\n",
    "        herb = arcpy.management.MakeWCSLayer(wcs_url,(\"herb\"+ i), analysis_area)\n",
    "        # clip to poly\n",
    "        herb_output_dir = output_dir + (\"/herb_Clip\") + i\n",
    "        herb_clip = arcpy.management.Clip(herb, bb, herb_output_dir, analysis_area, \"256\", \"ClippingGeometry\", \"NO_MAINTAIN_EXTENT\")\n",
    "        #if use_benchmarks:\n",
    "            #herb_benchmarked = Reclassify(herb_clip,\"Value\", herb_benchmarks)\n",
    "           # herb_benchmarked.save(output_dir + (\"/herb_benchmarked_\") + i)\n",
    "            \n",
    "#if 'annual_herbaceous_trend' in indicator_list:\n",
    "  #  server = \"https://www.mrlc.gov/geoserver/mrlc_download/wcs?coverage=rcmap_annual_herbaceous_linear_model_slope\"\n",
    "   # ah_trend = arcpy.management.MakeWCSLayer(server,\"annual_herb_trend\", analysis_area)\n",
    "    ## clip to poly\n",
    "    #aht_output_dir = output_dir + \"/annual_herb_trend_Clip\"\n",
    "    #arcpy.management.Clip(ah_trend, bb, aht_output_dir, analysis_area, \"256\", \"ClippingGeometry\", \"NO_MAINTAIN_EXTENT\")"
   ]
  },
  {
   "cell_type": "code",
   "execution_count": 29,
   "metadata": {},
   "outputs": [
    {
     "ename": "RuntimeError",
     "evalue": "ERROR 000732: Input Raster: Dataset perennial_herb_Clip2017 does not exist or is not supported",
     "output_type": "error",
     "traceback": [
      "\u001b[0;31m---------------------------------------------------------------------------\u001b[0m\n\u001b[0;31mRuntimeError\u001b[0m                              Traceback (most recent call last)",
      "In  \u001b[0;34m[29]\u001b[0m:\nLine \u001b[0;34m7\u001b[0m:     output_raster = Raster(\u001b[33m\"\u001b[39;49;00m\u001b[33mperennial_herb_Clip2017\u001b[39;49;00m\u001b[33m\"\u001b[39;49;00m)  / Raster(\u001b[33m\"\u001b[39;49;00m\u001b[33mannual_herb_Clip2017\u001b[39;49;00m\u001b[33m\"\u001b[39;49;00m)\n",
      "File \u001b[0;34mC:\\Program Files\\ArcGIS\\Pro\\Resources\\ArcPy\\arcpy\\sa\\Raster.py\u001b[0m, in \u001b[0;32m__new__\u001b[0m:\nLine \u001b[0;34m79\u001b[0m:    \u001b[34mreturn\u001b[39;49;00m \u001b[36msuper\u001b[39;49;00m().\u001b[32m__new__\u001b[39;49;00m(\u001b[36mcls\u001b[39;49;00m, in_raster, is_multidimensional)\n",
      "\u001b[0;31mRuntimeError\u001b[0m: ERROR 000732: Input Raster: Dataset perennial_herb_Clip2017 does not exist or is not supported\n\u001b[0;31m---------------------------------------------------------------------------\u001b[0m"
     ]
    }
   ],
   "source": [
    "# for a condition assessment we probably would want a single raster which was the mean of the most recent 5 years of data\n",
    "#mean_bg = arcpy.sa.CellStatistics(['bare_ground_Clip2021','bare_ground_Clip2020','bare_ground_Clip2019','bare_ground_Clip2018','bare_ground_Clip2017'], \"MEAN\", \"DATA\")\n",
    "#mean_bg.save(output_dir + \"/Mean_bare_ground20172021\")\n",
    "\n",
    "# need to calc perennial to annual ratio\n",
    "# for some reason this isnt working in a loop for doing it for each year\n",
    "output_raster = Raster(\"perennial_herb_Clip2017\")  / Raster(\"annual_herb_Clip2017\")\n",
    "output_raster.save(output_dir + (\"/perennial_annual_ratio2017\"))\n",
    "\n",
    "output_raster2 = Raster(\"perennial_herb_Clip2018\")  / Raster(\"annual_herb_Clip2018\")\n",
    "output_raster2.save(output_dir + (\"/perennial_annual_ratio2018\"))\n",
    "\n",
    "output_raster3 = Raster(\"perennial_herb_Clip2019\")  / Raster(\"annual_herb_Clip2019\")\n",
    "output_raster3.save(output_dir + (\"/perennial_annual_ratio2019\"))\n",
    "\n",
    "output_raster4 = Raster(\"perennial_herb_Clip2020\")  / Raster(\"annual_herb_Clip2020\")\n",
    "output_raster4.save(output_dir + (\"/perennial_annual_ratio2020\"))\n",
    "\n",
    "output_raster5 = Raster(\"perennial_herb_Clip2021\")  / Raster(\"annual_herb_Clip2021\")\n",
    "output_raster5.save(output_dir + (\"/perennial_annual_ratio2021\"))\n",
    "\n",
    "# need to calculate total foliar cover (assuming shrub + tree + herbaceous cover is close enough)\n",
    "\n",
    "\n"
   ]
  },
  {
   "cell_type": "code",
   "execution_count": null,
   "metadata": {},
   "outputs": [],
   "source": [
    "# regression betweennplot data and adjoining raster cells\n",
    "# find the raster with the closest date\n",
    "# extract values to points"
   ]
  },
  {
   "cell_type": "code",
   "execution_count": null,
   "metadata": {},
   "outputs": [],
   "source": []
  },
  {
   "cell_type": "code",
   "execution_count": null,
   "metadata": {},
   "outputs": [],
   "source": [
    "# do the same with RAP from GEE"
   ]
  }
 ],
 "metadata": {
  "kernelspec": {
   "display_name": "ArcGISPro",
   "language": "Python",
   "name": "python3"
  },
  "language_info": {
   "file_extension": ".py",
   "name": "python",
   "version": "3"
  }
 },
 "nbformat": 4,
 "nbformat_minor": 2
}
