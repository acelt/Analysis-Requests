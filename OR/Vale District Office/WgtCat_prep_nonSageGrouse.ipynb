{
 "cells": [
  {
   "cell_type": "code",
   "execution_count": null,
   "metadata": {},
   "outputs": [],
   "source": [
    "## Streamlined methods to prepare weight categories for a Proportional Area Analysis\n",
    "\n",
    "# Author: Kaitlin Lubetkin edited by Alex Traynor\n",
    "# Created: 9/24/21\n",
    "# Last Edited: 8/03/23\n",
    "                                                                                                                                                                                            "
   ]
  },
  {
   "cell_type": "code",
   "execution_count": 2,
   "metadata": {},
   "outputs": [],
   "source": [
    "# Setup packages\n",
    "import os\n",
    "import arcpy\n",
    "\n",
    "## Prepare workspace and define locations (make sure to change file paths and layer names to your own)\n",
    "map = arcpy.mp.ArcGISProject(\"CURRENT\").listMaps(\"Weighted Analysis\")[0]\n",
    "\n",
    "# Parent/root folder for analysis\n",
    "parent_folder = r'C:\\Users\\alaurencetraynor\\Documents\\OR\\ValeDO'\n",
    "\n",
    "gdb = parent_folder + '/ValeDO.gdb'\n",
    "\n",
    "# reporting unit\n",
    "reporting_unit = gdb + r'\\CowLakesAllotmentGroup_dissolve2_SummarizeWithin'\n",
    "\n",
    "# sample design polys\n",
    "sdd_polys = parent_folder + r'\\CLAA_Weighted_Analysis_v2.gdb\\CLAA_Weighted_Analysis_v2.gdb\\CLAA_SampleFrame'\n",
    "\n",
    "sdd_strata = parent_folder + r'\\CLAA_Weighted_Analysis_v2.gdb\\CLAA_Weighted_Analysis_v2.gdb\\CLAA_Strata'\n"
   ]
  },
  {
   "cell_type": "code",
   "execution_count": 3,
   "metadata": {},
   "outputs": [],
   "source": [
    "# there is one sample frame that is unstratifed (Malheur 2021 design) \n",
    "# so ill need to add this to the strata festure class before the union\n",
    "unstratified_sample_frames = 'OR_MalheurFO_2021_LUP_SampleFrame_1'\n",
    "where_clause = 'TerrestrialSampleFrameID = '+ \"'\"+ unstratified_sample_frames+ \"'\"\n",
    "\n",
    "# append to strata fc\n",
    "# need to use field mapping here since they have different fields\n",
    "arcpy.management.Append(sdd_polys, sdd_strata, \"NO_TEST\", r'TerrestrialDesignStratumID \"TerrestrialStrataumID\" true true false 255 Text 0 0,First,#,sdd_polys,TerrestrialSampleFrameID,0,255', '', where_clause)\n",
    "\n",
    "# clip strata to RU\n",
    "sdd_strata_clip = arcpy.analysis.PairwiseClip(sdd_strata, reporting_unit, gdb + '/sdd_poly_clip', None)"
   ]
  },
  {
   "cell_type": "code",
   "execution_count": 12,
   "metadata": {},
   "outputs": [
    {
     "name": "stdout",
     "output_type": "stream",
     "text": [
      "'TerrestrialSampleFrameID' is NULL\n"
     ]
    }
   ],
   "source": [
    "# for the unstratified designs need to copy over sample frame id\n",
    "clause =  \"'TerrestrialSampleFrameID' is NULL\"\n",
    "print(clause)\n",
    "\n",
    "with arcpy.da.UpdateCursor(sdd_strata_clip,[\"TerrestrialSampleFrameID\",\"TerrestrialDesignStratumID\"],where_clause = clause) as cursor:\n",
    "    for row in cursor:\n",
    "        row[0] = row[1]"
   ]
  },
  {
   "cell_type": "code",
   "execution_count": 24,
   "metadata": {},
   "outputs": [
    {
     "data": {
      "text/html": [
       "<div class='gpresult'><h2>Messages</h2><div id='messages' data-messages='[\"Start Time: Friday, August 11, 2023 11:20:18 AM\",\"Value(s) OR_MalheurFO_2017_LUP_SampleFrame_1 written to C:\\\\Users\\\\alaurencetraynor\\\\Documents\\\\OR\\\\ValeDO/ValeDO.gdb\\\\OR_MalheurFO_2017_LUP_SampleFrame_1.\",\"Value(s) OR_MalheurFO_2021_LUP_SampleFrame_1 written to C:\\\\Users\\\\alaurencetraynor\\\\Documents\\\\OR\\\\ValeDO/ValeDO.gdb\\\\OR_MalheurFO_2021_LUP_SampleFrame_1.\",\"Value(s) OR_SO_2016_PAC_SampleFrame_1 written to C:\\\\Users\\\\alaurencetraynor\\\\Documents\\\\OR\\\\ValeDO/ValeDO.gdb\\\\OR_SO_2016_PAC_SampleFrame_1.\",\"Value(s) OR_ValePAC_2021_LUP_SampleFrame_1 written to C:\\\\Users\\\\alaurencetraynor\\\\Documents\\\\OR\\\\ValeDO/ValeDO.gdb\\\\OR_ValePAC_2021_LUP_SampleFrame_1.\",\"Succeeded at Friday, August 11, 2023 11:20:34 AM (Elapsed Time: 15.90 seconds)\"]' data-show='true'><div id = 'default' /></div></div>"
      ],
      "text/plain": [
       "<Result 'C:\\\\Users\\\\alaurencetraynor\\\\Documents\\\\OR\\\\ValeDO\\\\ValeDO.gdb'>"
      ]
     },
     "execution_count": 24,
     "metadata": {},
     "output_type": "execute_result"
    }
   ],
   "source": [
    "# Split out each design\n",
    "arcpy.analysis.SplitByAttributes(sdd_strata_clip, gdb, 'TerrestrialSampleFrameID')"
   ]
  },
  {
   "cell_type": "code",
   "execution_count": 31,
   "metadata": {},
   "outputs": [
    {
     "name": "stdout",
     "output_type": "stream",
     "text": [
      "['C:\\\\Users\\\\alaurencetraynor\\\\Documents\\\\OR\\\\ValeDO/ValeDO.gdb/OR_MalheurFO_2017_LUP_SampleFrame_1', 'C:\\\\Users\\\\alaurencetraynor\\\\Documents\\\\OR\\\\ValeDO/ValeDO.gdb/OR_ValePAC_2021_LUP_SampleFrame_1', 'C:\\\\Users\\\\alaurencetraynor\\\\Documents\\\\OR\\\\ValeDO/ValeDO.gdb/OR_SO_2016_PAC_SampleFrame_1', 'C:\\\\Users\\\\alaurencetraynor\\\\Documents\\\\OR\\\\ValeDO/ValeDO.gdb/OR_MalheurFO_2021_LUP_SampleFrame_1']\n"
     ]
    }
   ],
   "source": [
    "# Union between all unique strata\n",
    "# make a list of all sample frames fcs\n",
    "with arcpy.da.SearchCursor(sdd_strata_clip,(\"TerrestrialSampleFrameID\")) as cursor:\n",
    "    # make empty list\n",
    "    strata_list = list()\n",
    "    for row in cursor:\n",
    "        strata = gdb + \"/\" + row[0]\n",
    "        strata_list.append(strata)\n",
    "\n",
    "strata_list = list(set(strata_list))\n",
    "print(strata_list)\n",
    "\n",
    "# do union with list\n",
    "strata_union = arcpy.Union_analysis(in_features = strata_list, out_feature_class = gdb + \"/strata_union\")"
   ]
  },
  {
   "cell_type": "code",
   "execution_count": 32,
   "metadata": {},
   "outputs": [],
   "source": [
    "strata_union = r'C:\\Users\\alaurencetraynor\\Documents\\OR\\ValeDO\\ValeDO.gdb\\strata_union'"
   ]
  },
  {
   "cell_type": "code",
   "execution_count": 33,
   "metadata": {},
   "outputs": [
    {
     "name": "stdout",
     "output_type": "stream",
     "text": [
      "strata combo populated\n"
     ]
    },
    {
     "data": {
      "text/html": [
       "<div class='gpresult'><h2>Messages</h2><div id='messages' data-messages='[\"Start Time: Friday, August 11, 2023 11:35:48 AM\",\"Succeeded at Friday, August 11, 2023 11:35:51 AM (Elapsed Time: 2.78 seconds)\"]' data-show='true'><div id = 'default' /></div></div>"
      ],
      "text/plain": [
       "<Result 'C:\\\\Users\\\\alaurencetraynor\\\\Documents\\\\OR\\\\ValeDO\\\\scratch.gdb\\\\CLAA_strata_UNION_clean'>"
      ]
     },
     "execution_count": 33,
     "metadata": {},
     "output_type": "execute_result"
    }
   ],
   "source": [
    "## Clean up the Unioned layer (can just run straight through this cell)\n",
    "\n",
    "#Scratch geodatabase to be used to store intermediate layers\n",
    "arcpy.management.CreateFileGDB(parent_folder, 'scratch.gdb')\n",
    "scratch_gdb = parent_folder + '\\\\scratch.gdb'\n",
    "\n",
    "#Just to be safe, repair geometry\n",
    "arcpy.management.RepairGeometry(strata_union, \"DELETE_NULL\")\n",
    "\n",
    "#Get all TerrestrialDesignStratumID field names\n",
    "fields = arcpy.ListFields(strata_union)\n",
    "strataIDFields = []\n",
    "for f in fields:\n",
    "    if f.name.startswith(\"TerrestrialDesignStratumID\"):\n",
    "        strataIDFields.append(f.name)\n",
    "    \n",
    "#Add and calculate a field for the combined strata\n",
    "arcpy.management.AddField(strata_union, \"strata_combo\", \"TEXT\", field_length = 255)\n",
    "addr = [\"!\" + idField + \"!\" for idField in strataIDFields] \n",
    "arcpy.management.CalculateField(strata_union, \"strata_combo\", \n",
    "                                \"ConcatAddr(\" + ','.join([a for a in addr]) + \")\", \n",
    "                                \"PYTHON3\", \n",
    "                                \"def ConcatAddr(*args): return ''.join([str(i) for i in args if i not in(None,' ')]) \", \n",
    "                                \"TEXT\", \n",
    "                                \"NO_ENFORCE_DOMAINS\")\n",
    "print(\"strata combo populated\")\n",
    "\n",
    "#Add and calculate a field for the area in hectares\n",
    "arcpy.management.AddField(strata_union, \"area_hectares\", \"DOUBLE\")\n",
    "arcpy.management.CalculateGeometryAttributes(strata_union, \n",
    "                                             \"area_hectares AREA_GEODESIC\", \n",
    "                                             area_unit = \"HECTARES\")\n",
    "\n",
    "#Save new, cleaned up copy\n",
    "fm =('Shape_Length \"Shape_Length\" false true true 8 Double 0 0,First,#,' + strata_union + ',Shape_Length,-1,-1;' + \n",
    "     'Shape_Area \"Shape_Area\" false true true 8 Double 0 0,First,#,' + strata_union + ',Shape_Area,-1,-1;' + \n",
    "     'area_hectares \"area_hectares\" true true false 8 Double 0 0,First,#,' + strata_union + ',area_hectares,-1,-1;' + \n",
    "     'strata_combo \"strata_combo\" true true false 255 Text 0 0,First,#,' + strata_union + ',strata_combo,0,255;')\n",
    "\n",
    "arcpy.conversion.FeatureClassToFeatureClass(strata_union, scratch_gdb, \"CLAA_strata_UNION_clean\", \n",
    "                                            field_mapping=fm)"
   ]
  },
  {
   "cell_type": "code",
   "execution_count": 37,
   "metadata": {},
   "outputs": [],
   "source": [
    "## Next, manually fix slivers (<2 ha) by giving them the strata_combo of an adjacent polygon\n",
    "## let just delete the slivers instead?\n",
    "with arcpy.da.UpdateCursor(scratch_gdb + \"/CLAA_strata_UNION_clean\", \"area_hectares\") as cursor:\n",
    "    for row in cursor:\n",
    "        if row[0] < 2:\n",
    "            cursor.deleteRow()\n",
    "# Then proceed with next Jupyter cell"
   ]
  },
  {
   "cell_type": "code",
   "execution_count": 38,
   "metadata": {},
   "outputs": [
    {
     "data": {
      "text/html": [
       "<div class='gpresult'><h2>Messages</h2><div id='messages' data-messages='[\"Start Time: Friday, August 11, 2023 11:38:29 AM\",\"Adding wgtcat to CLAA_strata_UNION_Dissolve...\",\"Succeeded at Friday, August 11, 2023 11:38:29 AM (Elapsed Time: 0.11 seconds)\"]' data-show='true'><div id = 'default' /></div></div>"
      ],
      "text/plain": [
       "<Result 'CLAA_strata_UNION_Dissolve'>"
      ]
     },
     "execution_count": 38,
     "metadata": {},
     "output_type": "execute_result"
    }
   ],
   "source": [
    "## Dissolve the unioned and cleaned strata (can just run straight through this cell)\n",
    "\n",
    "#Dissolve based on the \"strata_combo\"\n",
    "arcpy.management.Dissolve(\"CLAA_strata_UNION_clean\", \n",
    "                          gdb + \"\\\\CLAA_strata_UNION_Dissolve\", \n",
    "                          \"strata_combo\")\n",
    "#Recalculate hectares\n",
    "arcpy.management.CalculateGeometryAttributes(\"CLAA_strata_UNION_Dissolve\", \n",
    "                                             \"area_hectares AREA_GEODESIC\", \n",
    "                                             area_unit = \"HECTARES\")\n",
    "#Add weight category field\n",
    "arcpy.management.CalculateField(\"CLAA_strata_UNION_Dissolve\", \n",
    "                                \"wgtcat\", \n",
    "                                \"!OBJECTID!\", \"PYTHON3\",\n",
    "                                field_type=\"SHORT\")"
   ]
  },
  {
   "cell_type": "code",
   "execution_count": null,
   "metadata": {},
   "outputs": [],
   "source": [
    "## Double check small (1-2 ha) polygons\n",
    "## If necessary, return to the UNION and reassign strata combo & sample design, then redo the Dissolve"
   ]
  },
  {
   "cell_type": "code",
   "execution_count": 50,
   "metadata": {},
   "outputs": [
    {
     "data": {
      "text/html": [
       "<div class='gpresult'><h2>Messages</h2><div id='messages' data-messages='[\"Start Time: Friday, August 11, 2023 12:01:57 PM\",\"Succeeded at Friday, August 11, 2023 12:01:59 PM (Elapsed Time: 1.81 seconds)\"]' data-show='true'><div id = 'default' /></div></div>"
      ],
      "text/plain": [
       "<Result 'C:\\\\Users\\\\alaurencetraynor\\\\Documents\\\\OR\\\\ValeDO\\\\ValeDO.gdb\\\\benchmarked_points_wgtcats'>"
      ]
     },
     "execution_count": 50,
     "metadata": {},
     "output_type": "execute_result"
    }
   ],
   "source": [
    "# join wgtcat info to all the other inputs, namely sampled and rejected points\n",
    "# grab the benchmarked points from agol and subset them to remove LMF and other designs we arent using\n",
    "# We are also exlcuding points prior to 2017\n",
    "points = 'https://services1.arcgis.com/KbxwQRRfWyEYLgp4/arcgis/rest/services/Cow_Lakes_Allotment_Group_AIM_Benchmark_Summary_WFL1/FeatureServer/0'\n",
    "clause = \"ProjectNam <> 'LMF' AND DateVisite >= timestamp '2017-01-01 00:00:00'\"\n",
    "arcpy.FeatureClassToFeatureClass_conversion(points, gdb,\"benchmarked_points\", clause)\n",
    "\n",
    "# spatial join to wgtcats\n",
    "# also we dont have any rejections whch is nice\n",
    "arcpy.SpatialJoin_analysis(gdb+\"/benchmarked_points\", scratch_gdb + \"/CLAA_strata_UNION_Dissolve\", gdb+\"/benchmarked_points_wgtcats\")\n"
   ]
  },
  {
   "cell_type": "code",
   "execution_count": null,
   "metadata": {},
   "outputs": [],
   "source": []
  }
 ],
 "metadata": {
  "kernelspec": {
   "display_name": "ArcGISPro",
   "language": "Python",
   "name": "python3"
  },
  "language_info": {
   "file_extension": ".py",
   "name": "python",
   "version": "3"
  }
 },
 "nbformat": 4,
 "nbformat_minor": 2
}
