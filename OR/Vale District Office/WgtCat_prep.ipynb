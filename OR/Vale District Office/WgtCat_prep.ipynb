{
 "cells": [
  {
   "cell_type": "code",
   "execution_count": null,
   "metadata": {},
   "outputs": [],
   "source": [
    "## Streamlined methods to prepare weight categories for a HAF weighted analysis, \n",
    "## meant to be used after running the sdd_clip function in R\n",
    "\n",
    "#Author: Kaitlin Lubetkin\n",
    "#Created: 9/24/21\n",
    "#Last Edited: 2/15/22\n"
   ]
  },
  {
   "cell_type": "code",
   "execution_count": 7,
   "metadata": {},
   "outputs": [],
   "source": [
    "## Prep workspace and define functions\n",
    "import os\n",
    "import arcpy\n",
    "\n",
    "# Union all strata shapefiles created using the sdd_clip function in R\n",
    "def union_strata(season):\n",
    "    frame_list = []\n",
    "    sample_frame_path = sample_frame_path_base + season + \"_SUA\"\n",
    "    name_list = [\"lmf1\", \"lmf2\"] + [\"s\" + str(i) for i in range(1, maxS[season] + 1)]\n",
    "    for file in os.listdir(sample_frame_path):\n",
    "        if file.endswith(\".shp\"):\n",
    "            f = file[:len(file)-4]\n",
    "            frame_list.append(f)\n",
    "            arcpy.management.MakeFeatureLayer(sample_frame_path + \"\\\\\" + file, f)\n",
    "            with arcpy.da.SearchCursor(f, [\"unique_id\", \"name\"]) as cursor:\n",
    "                for row in cursor:\n",
    "                    thisID = row[0]\n",
    "                    thisName = row[1]\n",
    "                    del row\n",
    "            del cursor\n",
    "            arcpy.management.CalculateField(f, \"id_\" + thisID, '\"' + thisID + '\"')\n",
    "            arcpy.management.CalculateField(f, \"name_\" + thisID, '\"' + thisName + '\"')\n",
    "            arcpy.management.DeleteField(f, \"unique_id\")\n",
    "            arcpy.management.DeleteField(f, \"name\")\n",
    "    arcpy.analysis.Union(frame_list, analysis_gdb + \"\\\\strata_\" + season + \"_UNION\", \"NO_FID\")\n",
    "    arcpy.management.RepairGeometry(analysis_gdb + \"\\\\strata_\" + season + \"_UNION\", \"DELETE_NULL\")\n",
    "    for f in frame_list:\n",
    "        arcpy.management.Delete(f)\n",
    "\n",
    "    arcpy.management.AddField(\"strata_\" + season + \"_UNION\", \"area_hectares\", \"DOUBLE\")\n",
    "    arcpy.management.CalculateGeometryAttributes(\"strata_\" + season + \"_UNION\", \n",
    "                                                 \"area_hectares AREA\", \n",
    "                                                 area_unit = \"HECTARES\")\n",
    "    arcpy.management.AddField(\"strata_\" + season + \"_UNION\", \"strata_combo\", \"TEXT\", field_length = 80)\n",
    "    arcpy.management.AddField(\"strata_\" + season + \"_UNION\", \"Design_Stratum\", \"TEXT\", field_length = 255)\n",
    "    addr = [\"!id_\" + n + \"!\" for n in name_list]\n",
    "    arcpy.management.CalculateField(\"strata_\" + season + \"_UNION\", \"strata_combo\", \n",
    "                                    \"ConcatAddr(\" + ','.join([a for a in addr]) + \")\", \n",
    "                                    \"PYTHON3\", \n",
    "                                    \"def ConcatAddr(*args): return ''.join([str(i) for i in args if i not in(None,' ')]) \", \n",
    "                                    \"TEXT\", \n",
    "                                    \"NO_ENFORCE_DOMAINS\")\n",
    "    arcpy.management.SelectLayerByAttribute(\"strata_\" + season + \"_UNION\", \"NEW_SELECTION\", \"area_hectares >= 1.5\", None)\n",
    "    addr = [\"!name_\" + n + \"!\" for n in name_list]\n",
    "    arcpy.management.CalculateField(\"strata_\" + season + \"_UNION\", \"Design_Stratum\", \n",
    "                                    \"ConcatAddr(\" + ','.join([a for a in addr]) + \")\", \n",
    "                                    \"PYTHON3\", \n",
    "                                    \"def ConcatAddr(*args): return ''.join([str(i) for i in args if i not in(None,' ')]) \", \n",
    "                                    \"TEXT\", \n",
    "                                    \"NO_ENFORCE_DOMAINS\")\n",
    "    arcpy.management.SelectLayerByAttribute(\"strata_\" + season + \"_UNION\", \"CLEAR_SELECTION\")\n",
    "    for name in name_list:\n",
    "        arcpy.management.DeleteField(\"strata_\" + season + \"_UNION\", \"id_\" + name)\n",
    "        arcpy.management.DeleteField(\"strata_\" + season + \"_UNION\", \"name_\" + name)\n",
    "\n",
    "        \n",
    "# Prepare dissolved version and calculate weight categories\n",
    "def dissolve_strata(season):\n",
    "    #Dissolve based on the \"strata_combo\" & \"Design_Stratum\"\n",
    "    arcpy.management.Dissolve(\"strata_\" + season + \"_UNION\", \n",
    "                              analysis_gdb + \"\\\\strata_\" + season + \"_UNION_Dissolve\", \n",
    "                              \"strata_combo;Design_Stratum\")\n",
    "    #Calculate hectares\n",
    "    arcpy.management.CalculateGeometryAttributes(\"strata_\" + season + \"_UNION_Dissolve\", \n",
    "                                                 \"area_hectares_\" + season + \" AREA\", \n",
    "                                                 area_unit = \"HECTARES\")\n",
    "    #Add weight cat field\n",
    "    arcpy.management.AddField(\"strata_\" + season + \"_UNION_Dissolve\", \"wgtcat_\" + season, \"SHORT\")\n",
    "    arcpy.management.CalculateField(\"strata_\" + season + \"_UNION_Dissolve\", \n",
    "                                    \"wgtcat_\" + season, \n",
    "                                    \"!OBJECTID!\", \"PYTHON3\")"
   ]
  },
  {
   "cell_type": "code",
   "execution_count": 8,
   "metadata": {},
   "outputs": [],
   "source": [
    "parent_folder = r'C:\\Users\\klubetkin\\Desktop\\__TRANSFER\\_HAF site-scale analyses\\WY\\WindRiverFront_2022'\n",
    "sample_frame_path_base = parent_folder + '\\\\2_Methods\\\\WindRiverFront_'\n",
    "analysis_gdb = parent_folder + \"\\\\1_Analysis\\\\\" + 'WindRiverFront_RockSprings_SiteScale_Analysis_Inputs_20220308.gdb'\n",
    "fine_scale = \"WindRiverFront\"\n",
    "\n",
    "# The maximum TerrADat sample frame number (will be 2 less than the max sXX.shp if the 2 LMF strata are included)\n",
    "maxS = {'spring': 14, 'summer': 14, 'winter': 14}\n",
    "\n",
    "\n",
    "## Union all strata for each season\n",
    "for thisSeason in [\"summer\", \"winter\"]:\n",
    "    union_strata(thisSeason)\n",
    "del thisSeason"
   ]
  },
  {
   "cell_type": "code",
   "execution_count": null,
   "metadata": {},
   "outputs": [],
   "source": [
    "## Next, manually fix slivers (<1 ha) by giving them the strata_combo and Design_Stratum of the adjacent polygon\n",
    "\n",
    "# also double check very small non-quite-slivers (1-1.5 ha) and give own name or split as \n",
    "# needed to merge with adjacent larger polygons\n",
    "\n",
    "# Then proceed with next Jupyter cell"
   ]
  },
  {
   "cell_type": "code",
   "execution_count": 14,
   "metadata": {},
   "outputs": [],
   "source": [
    "## Dissolve each season\n",
    "#dissolve_strata(\"spring\")\n",
    "#dissolve_strata(\"summer\")\n",
    "dissolve_strata(\"winter\")"
   ]
  },
  {
   "cell_type": "code",
   "execution_count": null,
   "metadata": {},
   "outputs": [],
   "source": [
    "## Double check small (1-2 ha) polygons\n",
    "## If necessary, return to the UNION and reassign strata combo & sample design, then redo the Dissolve"
   ]
  },
  {
   "cell_type": "code",
   "execution_count": 18,
   "metadata": {},
   "outputs": [],
   "source": [
    "## Add weight cats from UNION_Dissolve to the SDD points   \n",
    "#for thisSeason in [\"_spring\", \"_summer\", \"_winter\"]:\n",
    "for thisSeason in [\"_summer\", \"_winter\"]:\n",
    "    arcpy.management.AddField(fine_scale + r\"_SDD_points\\TerrestrialPointEvaluation\", \"wgtcat\" + thisSeason, \"SHORT\")\n",
    "    arcpy.analysis.SpatialJoin(fine_scale + r\"_SDD_points\\TerrestrialPointEvaluation\", \n",
    "                               \"strata\" + thisSeason + \"_UNION_Dissolve\", \n",
    "                               analysis_gdb + \"\\\\TerrPt_spjoin\" + thisSeason)\n",
    "    arcpy.management.AddJoin(fine_scale + r\"_SDD_points\\TerrestrialPointEvaluation\", \"TerrestrialVisitID\", \n",
    "                             \"TerrPt_spjoin\" + thisSeason, \"TerrestrialVisitID\", \"KEEP_ALL\")\n",
    "    arcpy.management.CalculateField(fine_scale + r\"_SDD_points\\TerrestrialPointEvaluation\", \n",
    "                                    \"TerrestrialPointEvaluation.wgtcat\" + thisSeason, \n",
    "                                    \"!TerrPt_spjoin\" + thisSeason + \".wgtcat\" + thisSeason + \"_1!\", \"PYTHON3\")\n",
    "    arcpy.management.RemoveJoin(fine_scale + r\"_SDD_points\\TerrestrialPointEvaluation\", \"TerrPt_spjoin\" + thisSeason)\n",
    "    arcpy.management.Delete(analysis_gdb + \"\\\\TerrPt_spjoin\" + thisSeason)\n",
    "    \n",
    "## Add blank LMF-related fields to the SDD points\n",
    "arcpy.management.AddField(fine_scale + r\"_SDD_points\\TerrestrialPointEvaluation\", \"segment_id\", \"TEXT\", 20)\n",
    "for thisSeason in [\"_spring\", \"_summer\", \"_winter\"]:\n",
    "    arcpy.management.AddField(fine_scale + r\"_SDD_points\\TerrestrialPointEvaluation\", \"area_ratio\" + thisSeason, \"DOUBLE\")     \n",
    "del thisSeason\n",
    "## If any SDD points fall in a LMF segment, will need to manually populate those fields\n",
    "arcpy.management.SelectLayerByLocation(in_layer=fine_scale + r\"_SDD_points\\TerrestrialPointEvaluation\", \n",
    "                                       overlap_type=\"INTERSECT\", \n",
    "                                       select_features=fine_scale + r\"_LMF_strata_segments\\segment_\" + fine_scale, \n",
    "                                       selection_type=\"NEW_SELECTION\")\n",
    "result = arcpy.management.GetCount(fine_scale + r\"_SDD_points\\TerrestrialPointEvaluation\")\n",
    "if int(result[0]) > 0:\n",
    "    print(\"{} TerrestrialPointEvaluation plots fall in an LMF segment\".format(result[0]))\n",
    "    print(\"Must manually populate segment_id and area_ratio.\")"
   ]
  },
  {
   "cell_type": "code",
   "execution_count": 19,
   "metadata": {},
   "outputs": [
    {
     "name": "stdout",
     "output_type": "stream",
     "text": [
      "Done!\n"
     ]
    }
   ],
   "source": [
    "## Project points from RATINGS gdb into Albers Equal Area and save in the analysis inputs gdb\n",
    "base_name = \"WindRiverFrontQC\"\n",
    "albers = 'PROJCS[\"NAD_1983_Albers\",GEOGCS[\"GCS_North_American_1983\",DATUM[\"D_North_American_1983\",SPHEROID[\"GRS_1980\",6378137.0,298.257222101]],PRIMEM[\"Greenwich\",0.0],UNIT[\"Degree\",0.0174532925199433]],PROJECTION[\"Albers\"],PARAMETER[\"False_Easting\",0.0],PARAMETER[\"False_Northing\",0.0],PARAMETER[\"Central_Meridian\",-96.0],PARAMETER[\"Standard_Parallel_1\",29.5],PARAMETER[\"Standard_Parallel_2\",45.5],PARAMETER[\"Latitude_Of_Origin\",23.0],UNIT[\"Meter\",1.0]]'\n",
    "arcpy.management.Project(\"RATINGS_gdb\\\\\" + base_name + \"_HAF\", \n",
    "                         analysis_gdb + \"\\\\\" + fine_scale + \"_HAF\", \n",
    "                         albers)\n",
    "\n",
    "# Run each season\n",
    "for thisSeason in [[\"_S3_Spring\", \"_spring\"], [\"_S4_Summer\", \"_summer\"], [\"_S6_Winter\", \"_winter\"]]:\n",
    "#for thisSeason in [[\"_S6_Winter\", \"_winter\"]]:\n",
    "    arcpy.management.Project(\"RATINGS_gdb\\\\\" + base_name + thisSeason[0], \n",
    "                             analysis_gdb + \"\\\\\" + fine_scale + thisSeason[0], \n",
    "                             albers)\n",
    "    # Split out TerrADat points\n",
    "    arcpy.management.SelectLayerByAttribute(fine_scale + thisSeason[0], \"NEW_SELECTION\", \"Source='TerrADat'\", None)\n",
    "    arcpy.management.CopyFeatures(fine_scale + thisSeason[0], analysis_gdb + \"\\\\tdat_\" + fine_scale + thisSeason[1])\n",
    "    # Split out LMF points\n",
    "    arcpy.management.SelectLayerByAttribute(fine_scale + thisSeason[0], \"NEW_SELECTION\", \"Source='LMF'\", None)\n",
    "    arcpy.management.CopyFeatures(fine_scale + thisSeason[0], analysis_gdb + \"\\\\lmf_\" + fine_scale + thisSeason[1])\n",
    "    # Add fields for weight cat, segment, and area_ratio\n",
    "    arcpy.management.AddField(\"tdat_\" + fine_scale + thisSeason[1], \"wgtcat\" + thisSeason[1], \"SHORT\")\n",
    "    arcpy.management.AddField(\"tdat_\" + fine_scale + thisSeason[1], \"segment_id\", \"TEXT\", 20)\n",
    "    arcpy.management.AddField(\"tdat_\" + fine_scale + thisSeason[1], \"area_ratio\" + thisSeason[1], \"DOUBLE\")\n",
    "    arcpy.management.AddField(\"lmf_\" + fine_scale + thisSeason[1], \"wgtcat\" + thisSeason[1], \"SHORT\")\n",
    "    arcpy.management.AddField(\"lmf_\" + fine_scale + thisSeason[1], \"segment_id\", \"TEXT\", 20)\n",
    "    arcpy.management.AddField(\"lmf_\" + fine_scale + thisSeason[1], \"area_ratio\" + thisSeason[1], \"DOUBLE\")\n",
    "    # Join TerrADat points to PointEvaluation fc and calculate additional fields\n",
    "    arcpy.management.AddJoin(\"tdat_\" + fine_scale + thisSeason[1], \"PrimaryKey\",\n",
    "                             fine_scale + r\"_SDD_points\\TerrestrialPointEvaluation\", \"TerrADatPrimaryKey\", \n",
    "                             \"KEEP_ALL\")\n",
    "    arcpy.management.CalculateField(\"tdat_\" + fine_scale + thisSeason[1], \n",
    "                                    \"wgtcat\" + thisSeason[1], \n",
    "                                    \"!TerrestrialPointEvaluation.wgtcat\" + thisSeason[1] + \"!\", \"PYTHON3\")\n",
    "    arcpy.management.CalculateField(\"tdat_\" + fine_scale + thisSeason[1], \n",
    "                                    \"segment_id\", \n",
    "                                    \"!TerrestrialPointEvaluation.segment_id!\", \"PYTHON3\")\n",
    "    arcpy.management.CalculateField(\"tdat_\" + fine_scale + thisSeason[1], \n",
    "                                    \"area_ratio\" + thisSeason[1], \n",
    "                                    \"!TerrestrialPointEvaluation.area_ratio\" + thisSeason[1] + \"!\", \"PYTHON3\")\n",
    "    arcpy.management.RemoveJoin(\"tdat_\" + fine_scale + thisSeason[1], \"TerrestrialPointEvaluation\")\n",
    "    \n",
    "    # Spatially join LMF points to dissolved seasonal strata and calculate weight cat\n",
    "    arcpy.analysis.SpatialJoin(\"lmf_\" + fine_scale + thisSeason[1], \n",
    "                               \"strata\" + thisSeason[1] + \"_UNION_Dissolve\", \n",
    "                               analysis_gdb + \"\\\\LMFseg_spjoin\" + thisSeason[1])\n",
    "    arcpy.management.AddJoin(\"lmf_\" + fine_scale + thisSeason[1], \"PrimaryKey\", \n",
    "                             \"LMFseg_spjoin\" + thisSeason[1], \"PrimaryKey\", \"KEEP_ALL\")\n",
    "    arcpy.management.CalculateField(\"lmf_\" + fine_scale + thisSeason[1], \n",
    "                                    \"wgtcat\" + thisSeason[1], \n",
    "                                    \"!LMFseg_spjoin\" + thisSeason[1] + \".wgtcat\" + thisSeason[1] + \"_1!\", \"PYTHON3\")\n",
    "    arcpy.management.RemoveJoin(\"lmf_\" + fine_scale + thisSeason[1], \"LMFseg_spjoin\" + thisSeason[1])\n",
    "    arcpy.management.Delete(analysis_gdb + \"\\\\LMFseg_spjoin\" + thisSeason[1])\n",
    "    \n",
    "    # Spatially join LMF points to seasonal segments and calculate segment_id & area_ratio\n",
    "    arcpy.analysis.SpatialJoin(\"lmf_\" + fine_scale + thisSeason[1], \n",
    "                               fine_scale + r\"_LMF_strata_segments\\segment_\" + fine_scale + thisSeason[1], \n",
    "                               analysis_gdb + \"\\\\LMFseg_spjoin\" + thisSeason[1])\n",
    "    arcpy.management.AddJoin(\"lmf_\" + fine_scale + thisSeason[1], \"PrimaryKey\", \n",
    "                             \"LMFseg_spjoin\" + thisSeason[1], \"PrimaryKey\", \"KEEP_ALL\")\n",
    "    arcpy.management.CalculateField(\"lmf_\" + fine_scale + thisSeason[1], \n",
    "                                    \"segment_id\", \n",
    "                                    \"!LMFseg_spjoin\" + thisSeason[1] + \".segment_id_1!\", \"PYTHON3\")\n",
    "    arcpy.management.CalculateField(\"lmf_\" + fine_scale + thisSeason[1], \n",
    "                                    \"area_ratio\" + thisSeason[1], \n",
    "                                    \"!LMFseg_spjoin\" + thisSeason[1] + \".area_ratio!\", \"PYTHON3\")\n",
    "    arcpy.management.RemoveJoin(\"lmf_\" + fine_scale + thisSeason[1], \"LMFseg_spjoin\" + thisSeason[1])\n",
    "    arcpy.management.Delete(analysis_gdb + \"\\\\LMFseg_spjoin\" + thisSeason[1])\n",
    "    \n",
    "print(\"Done!\")"
   ]
  },
  {
   "cell_type": "code",
   "execution_count": null,
   "metadata": {},
   "outputs": [],
   "source": [
    "## Double check that none of the seasonal tdat or lmf points has NULL for wgt cat\n",
    "## Then, return to the seasonal rmd scripts"
   ]
  },
  {
   "cell_type": "code",
   "execution_count": 48,
   "metadata": {},
   "outputs": [
    {
     "data": {
      "text/html": [
       "<h2>Output</h2>true<h2>Messages</h2>Start Time: Thursday, February 24, 2022 11:15:20 AM<br/>Succeeded at Thursday, February 24, 2022 11:15:21 AM (Elapsed Time: 0.66 seconds)<br/><style>.rendered_html td, .rendered_html th {text-align: left;}.rendered_html tbody {border: 1px solid black;}</style>"
      ],
      "text/plain": [
       "<Result 'true'>"
      ]
     },
     "execution_count": 48,
     "metadata": {},
     "output_type": "execute_result"
    }
   ],
   "source": []
  }
 ],
 "metadata": {
  "kernelspec": {
   "display_name": "ArcGISPro",
   "language": "Python",
   "name": "python3"
  },
  "language_info": {
   "file_extension": ".py",
   "name": "python",
   "version": "3"
  }
 },
 "nbformat": 4,
 "nbformat_minor": 2
}
