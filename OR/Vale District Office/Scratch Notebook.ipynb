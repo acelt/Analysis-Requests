{
 "cells": [
  {
   "cell_type": "code",
   "execution_count": null,
   "metadata": {},
   "outputs": [],
   "source": [
    "import pandas as pd\n",
    "df = pd.read_json(r\"C:\\Users\\alaurencetraynor\\Documents\\Tools\\Shiny App\\data\\openbeta-usa-routes-aug-2020.zip\", lines=True)\n",
    "df.sample(5)\n",
    "# grab lat longs\n",
    "df=df.join(pd.json_normalize(df['metadata']).add_prefix(\"metadata.\")).drop(['metadata'], axis=1)\n",
    "df['metadata.parent_lnglat']\n",
    "# convert [lng, lat] into shapely.geometry.Point\n",
    "geometry = [Point(tuple(xy)) for xy in df['metadata.parent_lnglat']]\n",
    "geo_df = gpd.GeoDataFrame(df, crs=\"EPSG:4326\", geometry=geometry)\n",
    "ax = geo_df.plot(figsize=(20, 20), alpha=0.5, edgecolor='k')"
   ]
  }
 ],
 "metadata": {
  "kernelspec": {
   "display_name": "ArcGISPro",
   "language": "Python",
   "name": "python3"
  },
  "language_info": {
   "file_extension": ".py",
   "name": "python",
   "version": "3"
  }
 },
 "nbformat": 4,
 "nbformat_minor": 2
}
